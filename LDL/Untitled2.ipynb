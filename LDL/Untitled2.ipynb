{
 "cells": [
  {
   "cell_type": "code",
   "execution_count": 93,
   "metadata": {},
   "outputs": [],
   "source": [
    "import numpy as np\n",
    "import matplotlib.pyplot as plt\n",
    "import seaborn as sns\n",
    "from sklearn import *\n",
    "import networkx as nx"
   ]
  },
  {
   "cell_type": "markdown",
   "metadata": {},
   "source": [
    "If $A u = \\lambda u$, then $u$ is the eigenvector of matrix $A$ corresponding to the eigenvalue $\\lambda$.\n",
    "In numpy, `eig(A)` returns $(V, U)$, where $V = \\{\\lambda_i\\}_{i=1}^n$ and $U = \\{u_i\\}_{i=1}^n$."
   ]
  },
  {
   "cell_type": "code",
   "execution_count": 94,
   "metadata": {},
   "outputs": [],
   "source": [
    "X, y = datasets.load_breast_cancer(return_X_y=True)\n",
    "X = preprocessing.scale(X)\n",
    "G = nx.from_scipy_sparse_matrix(neighbors.kneighbors_graph(X, metric='l1', n_neighbors=5))"
   ]
  },
  {
   "cell_type": "code",
   "execution_count": 106,
   "metadata": {},
   "outputs": [
    {
     "data": {
      "text/plain": [
       "True"
      ]
     },
     "execution_count": 106,
     "metadata": {},
     "output_type": "execute_result"
    }
   ],
   "source": [
    "K = nx.incidence_matrix(G).toarray()\n",
    "L = K @ (K.T)\n",
    "(np.abs(laplacian_matrix(A)) == np.abs(L)).all()"
   ]
  },
  {
   "cell_type": "code",
   "execution_count": 109,
   "metadata": {},
   "outputs": [
    {
     "name": "stdout",
     "output_type": "stream",
     "text": [
      "(569, 30)\n"
     ]
    },
    {
     "data": {
      "text/plain": [
       "(569, 2172)"
      ]
     },
     "execution_count": 109,
     "metadata": {},
     "output_type": "execute_result"
    }
   ],
   "source": [
    "print(X.shape)\n",
    "nx.incidence_matrix(G).toarray().shape"
   ]
  },
  {
   "cell_type": "code",
   "execution_count": 83,
   "metadata": {},
   "outputs": [
    {
     "data": {
      "text/plain": [
       "[<matplotlib.lines.Line2D at 0x7f9bc3d87310>]"
      ]
     },
     "execution_count": 83,
     "metadata": {},
     "output_type": "execute_result"
    },
    {
     "data": {
      "image/png": "[encoded data removed]",
      "text/plain": [
       "<Figure size 432x288 with 1 Axes>"
      ]
     },
     "metadata": {
      "needs_background": "light"
     },
     "output_type": "display_data"
    }
   ],
   "source": [
    "plt.plot(range(x.shape[0]), preprocessing.scale(x.flatten()), 'r')\n",
    "plt.plot(range(x.shape[0]), preprocessing.scale((x.T @ eigvecs).flatten()), 'b')\n",
    "plt.plot(range(x.shape[0]), preprocessing.scale((x.T @ eigvecs @ eigvecs).flatten()), 'g')\n",
    "plt.plot(range(x.shape[0]), preprocessing.scale((x.T @ eigvecs @ eigvecs @ eigvecs).flatten()), 'pink')\n",
    "plt.plot(range(x.shape[0]), preprocessing.scale((x.T @ eigvecs @ eigvecs @ eigvecs @ eigvecs).flatten()), 'black')"
   ]
  },
  {
   "cell_type": "code",
   "execution_count": 46,
   "metadata": {},
   "outputs": [
    {
     "name": "stdout",
     "output_type": "stream",
     "text": [
      "[[65.65873001]]\n"
     ]
    }
   ],
   "source": [
    "reassign = x.T @ L @ x\n",
    "print(reassign)"
   ]
  },
  {
   "cell_type": "code",
   "execution_count": 45,
   "metadata": {},
   "outputs": [
    {
     "data": {
      "text/plain": [
       "array([[ -9.99448392,  -6.93511406,  -2.33634052,   1.5164909 ,\n",
       "        -12.04500468,  -6.93268298,  -3.64905483,   2.46243822,\n",
       "          1.29951927,   8.89402523,  10.6139278 ,  17.10627956]])"
      ]
     },
     "execution_count": 45,
     "metadata": {},
     "output_type": "execute_result"
    }
   ],
   "source": [
    "(np.arange(L.shape[0]).reshape(1, -1) @ L)"
   ]
  },
  {
   "cell_type": "code",
   "execution_count": 50,
   "metadata": {},
   "outputs": [],
   "source": [
    "eigvals, eigvecs = np.linalg.eig(L)"
   ]
  },
  {
   "cell_type": "code",
   "execution_count": 65,
   "metadata": {},
   "outputs": [
    {
     "data": {
      "text/plain": [
       "array([[ 0.39461002],\n",
       "       [-7.22758746],\n",
       "       [-1.02084301],\n",
       "       [-0.03229357],\n",
       "       [-0.7139041 ],\n",
       "       [-0.51691396],\n",
       "       [ 0.15687425],\n",
       "       [ 0.05804187],\n",
       "       [-0.09499074],\n",
       "       [ 0.01626194],\n",
       "       [ 0.19068382],\n",
       "       [-0.09348221]])"
      ]
     },
     "execution_count": 65,
     "metadata": {},
     "output_type": "execute_result"
    }
   ],
   "source": [
    "eigvecs.T @ x"
   ]
  },
  {
   "cell_type": "code",
   "execution_count": 82,
   "metadata": {},
   "outputs": [],
   "source": [
    "_x = eigvecs.T @ x\n",
    "_x = preprocessing.scale(_x)"
   ]
  },
  {
   "cell_type": "code",
   "execution_count": 80,
   "metadata": {},
   "outputs": [
    {
     "name": "stdout",
     "output_type": "stream",
     "text": [
      "0.1261030469966309\n"
     ]
    }
   ],
   "source": []
  },
  {
   "cell_type": "code",
   "execution_count": null,
   "metadata": {},
   "outputs": [],
   "source": []
  }
 ],
 "metadata": {
  "kernelspec": {
   "display_name": "Python 3",
   "language": "python",
   "name": "python3"
  },
  "language_info": {
   "codemirror_mode": {
    "name": "ipython",
    "version": 3
   },
   "file_extension": ".py",
   "mimetype": "text/x-python",
   "name": "python",
   "nbconvert_exporter": "python",
   "pygments_lexer": "ipython3",
   "version": "3.8.3"
  }
 },
 "nbformat": 4,
 "nbformat_minor": 4
}
